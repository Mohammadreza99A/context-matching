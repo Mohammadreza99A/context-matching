{
 "cells": [
  {
   "cell_type": "code",
   "execution_count": 1,
   "metadata": {},
   "outputs": [],
   "source": [
    "import pandas as pd\n",
    "import numpy as np\n",
    "import matplotlib.pyplot as plt"
   ]
  },
  {
   "cell_type": "code",
   "execution_count": 2,
   "metadata": {},
   "outputs": [
    {
     "name": "stdout",
     "output_type": "stream",
     "text": [
      "SAILING 1: MEAN --> 6.871468083514646 --- STD --> 2.276409721350304\n",
      "SAILING 2: MEAN --> 6.1080017070380626 --- STD --> 2.490478707589577\n",
      "FISHING: MEAN --> 2.6525484215324937 --- STD --> 1.5043411292548132\n"
     ]
    }
   ],
   "source": [
    "df = pd.read_csv(\"../AIS_trajs/others/128_fishing_trajs.csv\")\n",
    "df_sailing_1 = df[df['label'].str.contains(\"01-sailing\")]\n",
    "df_sailing_1 = df_sailing_1[[\"euc_speed\"]]\n",
    "df_sailing_2 = df[df['label'].str.contains(\"03-sailing\")]\n",
    "df_sailing_2 = df_sailing_2[[\"euc_speed\"]]\n",
    "df_fishing = df[df['label'].str.contains(\"fishing\")]\n",
    "df_fishing = df_fishing[[\"euc_speed\"]]\n",
    "\n",
    "sailing_1_speed_mean = df_sailing_1.mean()\n",
    "sailing_1_speed_std = df_sailing_1.std()\n",
    "\n",
    "sailing_2_speed_mean = df_sailing_2.mean()\n",
    "sailing_2_speed_std = df_sailing_2.std()\n",
    "\n",
    "fishing_speed_mean = df_fishing.mean()\n",
    "fishing_speed_std = df_fishing.std()\n",
    "\n",
    "print(\"SAILING 1: MEAN --> {} --- STD --> {}\".format(sailing_1_speed_mean[\"euc_speed\"], sailing_1_speed_std[\"euc_speed\"]))\n",
    "print(\"SAILING 2: MEAN --> {} --- STD --> {}\".format(sailing_2_speed_mean[\"euc_speed\"], sailing_2_speed_std[\"euc_speed\"]))\n",
    "print(\"FISHING: MEAN --> {} --- STD --> {}\".format(fishing_speed_mean[\"euc_speed\"], fishing_speed_std[\"euc_speed\"]))\n"
   ]
  }
 ],
 "metadata": {
  "kernelspec": {
   "display_name": "Python 3.10.8 ('playground')",
   "language": "python",
   "name": "python3"
  },
  "language_info": {
   "codemirror_mode": {
    "name": "ipython",
    "version": 3
   },
   "file_extension": ".py",
   "mimetype": "text/x-python",
   "name": "python",
   "nbconvert_exporter": "python",
   "pygments_lexer": "ipython3",
   "version": "3.10.9"
  },
  "orig_nbformat": 4,
  "vscode": {
   "interpreter": {
    "hash": "36607359a04af96f888fc084095b9a612b0abfdc6d549e23a78a13ee8ba2e0be"
   }
  }
 },
 "nbformat": 4,
 "nbformat_minor": 2
}
