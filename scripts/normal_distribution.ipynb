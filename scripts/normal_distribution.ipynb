{
 "cells": [
  {
   "cell_type": "code",
   "execution_count": 1,
   "metadata": {},
   "outputs": [],
   "source": [
    "import pandas as pd\n",
    "import numpy as np\n",
    "import matplotlib.pyplot as plt"
   ]
  },
  {
   "cell_type": "code",
   "execution_count": 3,
   "metadata": {},
   "outputs": [
    {
     "name": "stdout",
     "output_type": "stream",
     "text": [
      "SAILING: MEAN --> 4.92007640659445 --- STD --> 2.501104434998481\n",
      "FISHING: MEAN --> 2.403334520228547 --- STD --> 0.9051540144044669\n"
     ]
    }
   ],
   "source": [
    "df = pd.read_csv(\"../AIS_trajs/seperated/211477000-2.csv\")\n",
    "df_sailing = df[df['label'].str.contains(\"sailing\")]\n",
    "df_sailing = df_sailing[[\"euc_speed\"]]\n",
    "df_fishing = df[df['label'].str.contains(\"fishing\")]\n",
    "df_fishing = df_fishing[[\"euc_speed\"]]\n",
    "\n",
    "sailing_speed_mean = df_sailing.mean()\n",
    "sailing_speed_std = df_sailing.std()\n",
    "\n",
    "fishing_speed_mean = df_fishing.mean()\n",
    "fishing_speed_std = df_fishing.std()\n",
    "\n",
    "print(\"SAILING: MEAN --> {} --- STD --> {}\".format(sailing_speed_mean[\"euc_speed\"], sailing_speed_std[\"euc_speed\"]))\n",
    "print(\"FISHING: MEAN --> {} --- STD --> {}\".format(fishing_speed_mean[\"euc_speed\"], fishing_speed_std[\"euc_speed\"]))\n"
   ]
  },
  {
   "cell_type": "code",
   "execution_count": 2,
   "metadata": {},
   "outputs": [
    {
     "name": "stdout",
     "output_type": "stream",
     "text": [
      "SAILING: MEAN --> 6.477896815161369 --- STD --> 2.4183312566349664\n",
      "FISHING: MEAN --> 2.6525484215324937 --- STD --> 1.5043411292548132\n"
     ]
    }
   ],
   "source": [
    "df = pd.read_csv(\"../AIS_trajs/128_fishing_trajs.csv\")\n",
    "df_sailing = df[df['label'].str.contains(\"sailing\")]\n",
    "df_sailing = df_sailing[[\"euc_speed\"]]\n",
    "df_fishing = df[df['label'].str.contains(\"fishing\")]\n",
    "df_fishing = df_fishing[[\"euc_speed\"]]\n",
    "\n",
    "sailing_speed_mean = df_sailing.mean()\n",
    "sailing_speed_std = df_sailing.std()\n",
    "\n",
    "fishing_speed_mean = df_fishing.mean()\n",
    "fishing_speed_std = df_fishing.std()\n",
    "\n",
    "print(\"SAILING: MEAN --> {} --- STD --> {}\".format(sailing_speed_mean[\"euc_speed\"], sailing_speed_std[\"euc_speed\"]))\n",
    "print(\"FISHING: MEAN --> {} --- STD --> {}\".format(fishing_speed_mean[\"euc_speed\"], fishing_speed_std[\"euc_speed\"]))\n"
   ]
  }
 ],
 "metadata": {
  "kernelspec": {
   "display_name": "Python 3.10.8 ('playground')",
   "language": "python",
   "name": "python3"
  },
  "language_info": {
   "codemirror_mode": {
    "name": "ipython",
    "version": 3
   },
   "file_extension": ".py",
   "mimetype": "text/x-python",
   "name": "python",
   "nbconvert_exporter": "python",
   "pygments_lexer": "ipython3",
   "version": "3.10.8"
  },
  "orig_nbformat": 4,
  "vscode": {
   "interpreter": {
    "hash": "36607359a04af96f888fc084095b9a612b0abfdc6d549e23a78a13ee8ba2e0be"
   }
  }
 },
 "nbformat": 4,
 "nbformat_minor": 2
}
